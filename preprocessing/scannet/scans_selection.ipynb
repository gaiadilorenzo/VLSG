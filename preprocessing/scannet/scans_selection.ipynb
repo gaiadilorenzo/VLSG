{
 "cells": [
  {
   "cell_type": "code",
   "execution_count": 36,
   "metadata": {},
   "outputs": [],
   "source": [
    "import numpy as np\n",
    "import os\n",
    "import json\n",
    "\n",
    "Scannet_Root = \"/home/yang/990Pro/scannet_seqs/data\"\n",
    "split = 'val'\n",
    "\n",
    "scan_ids = os.listdir(os.path.join(Scannet_Root, split))"
   ]
  },
  {
   "cell_type": "code",
   "execution_count": 39,
   "metadata": {},
   "outputs": [
    {
     "name": "stdout",
     "output_type": "stream",
     "text": [
      "num of room_ 52, with 100 scans\n",
      "num of room_scan_multi: 29\n"
     ]
    }
   ],
   "source": [
    "# get ref scans and reccans, scene_00xx_00, scene_00xx_01\n",
    "room_scans = {}\n",
    "num_scan = 0\n",
    "for scan_id in scan_ids[:100]:\n",
    "    room_id = scan_id.split('_')[0]\n",
    "    scan_idx = scan_id.split('_')[1]\n",
    "    if room_id not in room_scans:\n",
    "        room_scans[room_id] = []\n",
    "    room_scans[room_id].append(scan_id)\n",
    "    num_scan += 1\n",
    "print('num of room_ {}, with {} scans'.format(len(room_scans), num_scan))\n",
    "# get rooms with multiple scan pairs\n",
    "room_scan_multi = {}\n",
    "for room_id, scans in room_scans.items():\n",
    "    if len(scans) > 1:\n",
    "        room_scan_multi[room_id] = scans\n",
    "print('num of room_scan_multi:', len(room_scan_multi))"
   ]
  },
  {
   "cell_type": "code",
   "execution_count": 33,
   "metadata": {},
   "outputs": [],
   "source": [
    "# get room scans with significant object difference\n",
    "obj_diff_th = 5\n",
    "scans_with_diff = {}\n",
    "\n",
    "for room_id in room_scan_multi:\n",
    "    ## get number of objects in each scan\n",
    "    num_objects = {}\n",
    "    for scan_id in room_scan_multi[room_id]:\n",
    "        scan_path = os.path.join(Scannet_Root, split, scan_id, scan_id + \"_vh_clean.aggregation.json\")\n",
    "        with open(scan_path) as f:\n",
    "            annotation = json.load(f)\n",
    "            num_objects[scan_id] = len(annotation['segGroups'])\n",
    "    ## get scans with significant different number of objects\n",
    "    scan_ids = list(num_objects.keys())\n",
    "    num_objects = list(num_objects.values())\n",
    "    diff = np.abs(np.array(num_objects)[:, None] - np.array(num_objects))\n",
    "    diff = diff - np.diag(np.diag(diff))\n",
    "    max_diff = np.max(diff)\n",
    "    if max_diff > obj_diff_th:\n",
    "        scan_ids = [scan_ids[np.argmax(diff) // len(scan_ids)], scan_ids[np.argmax(diff) % len(scan_ids)]]\n",
    "        scans_with_diff[room_id] = scan_ids"
   ]
  },
  {
   "cell_type": "code",
   "execution_count": 40,
   "metadata": {},
   "outputs": [
    {
     "data": {
      "text/plain": [
       "{'scene0011': ['scene0011_00', 'scene0011_01'],\n",
       " 'scene0015': ['scene0015_00'],\n",
       " 'scene0019': ['scene0019_00', 'scene0019_01'],\n",
       " 'scene0025': ['scene0025_00', 'scene0025_01', 'scene0025_02'],\n",
       " 'scene0030': ['scene0030_00', 'scene0030_01', 'scene0030_02'],\n",
       " 'scene0046': ['scene0046_00', 'scene0046_01', 'scene0046_02'],\n",
       " 'scene0050': ['scene0050_00', 'scene0050_01', 'scene0050_02'],\n",
       " 'scene0064': ['scene0064_00', 'scene0064_01'],\n",
       " 'scene0077': ['scene0077_00', 'scene0077_01'],\n",
       " 'scene0081': ['scene0081_00', 'scene0081_01', 'scene0081_02'],\n",
       " 'scene0084': ['scene0084_00', 'scene0084_01', 'scene0084_02'],\n",
       " 'scene0086': ['scene0086_00', 'scene0086_01', 'scene0086_02'],\n",
       " 'scene0088': ['scene0088_00', 'scene0088_01', 'scene0088_02', 'scene0088_03'],\n",
       " 'scene0095': ['scene0095_01', 'scene0095_00'],\n",
       " 'scene0100': ['scene0100_00', 'scene0100_01', 'scene0100_02'],\n",
       " 'scene0131': ['scene0131_00', 'scene0131_01', 'scene0131_02'],\n",
       " 'scene0139': ['scene0139_00'],\n",
       " 'scene0144': ['scene0144_00', 'scene0144_01'],\n",
       " 'scene0146': ['scene0146_00', 'scene0146_01', 'scene0146_02'],\n",
       " 'scene0149': ['scene0149_00'],\n",
       " 'scene0153': ['scene0153_00', 'scene0153_01'],\n",
       " 'scene0164': ['scene0164_00', 'scene0164_02', 'scene0164_03', 'scene0164_01'],\n",
       " 'scene0169': ['scene0169_00', 'scene0169_01'],\n",
       " 'scene0187': ['scene0187_00', 'scene0187_01'],\n",
       " 'scene0193': ['scene0193_00', 'scene0193_01'],\n",
       " 'scene0196': ['scene0196_00'],\n",
       " 'scene0203': ['scene0203_00', 'scene0203_01', 'scene0203_02'],\n",
       " 'scene0207': ['scene0207_00', 'scene0207_01', 'scene0207_02'],\n",
       " 'scene0208': ['scene0208_00'],\n",
       " 'scene0217': ['scene0217_00'],\n",
       " 'scene0063': ['scene0063_00'],\n",
       " 'scene0221': ['scene0221_00', 'scene0221_01'],\n",
       " 'scene0278': ['scene0278_01'],\n",
       " 'scene0338': ['scene0338_02'],\n",
       " 'scene0377': ['scene0377_02'],\n",
       " 'scene0426': ['scene0426_02'],\n",
       " 'scene0474': ['scene0474_02'],\n",
       " 'scene0552': ['scene0552_01'],\n",
       " 'scene0575': ['scene0575_01'],\n",
       " 'scene0598': ['scene0598_02'],\n",
       " 'scene0618': ['scene0618_00'],\n",
       " 'scene0651': ['scene0651_02'],\n",
       " 'scene0670': ['scene0670_01'],\n",
       " 'scene0693': ['scene0693_01'],\n",
       " 'scene0222': ['scene0222_00', 'scene0222_01'],\n",
       " 'scene0231': ['scene0231_00', 'scene0231_01', 'scene0231_02'],\n",
       " 'scene0246': ['scene0246_00'],\n",
       " 'scene0249': ['scene0249_00'],\n",
       " 'scene0251': ['scene0251_00'],\n",
       " 'scene0256': ['scene0256_00', 'scene0256_01', 'scene0256_02'],\n",
       " 'scene0257': ['scene0257_00'],\n",
       " 'scene0277': ['scene0277_00', 'scene0277_01', 'scene0277_02']}"
      ]
     },
     "execution_count": 40,
     "metadata": {},
     "output_type": "execute_result"
    }
   ],
   "source": [
    "room_scans"
   ]
  },
  {
   "cell_type": "code",
   "execution_count": 41,
   "metadata": {},
   "outputs": [],
   "source": [
    "# save to file\n",
    "import pickle\n",
    "file_save = os.path.join(Scannet_Root, \"files\", 'scans_{}.pkl'.format(split))\n",
    "pickle.dump(room_scans, open(file_save, \"wb\"))"
   ]
  }
 ],
 "metadata": {
  "kernelspec": {
   "display_name": "GCVit",
   "language": "python",
   "name": "python3"
  },
  "language_info": {
   "codemirror_mode": {
    "name": "ipython",
    "version": 3
   },
   "file_extension": ".py",
   "mimetype": "text/x-python",
   "name": "python",
   "nbconvert_exporter": "python",
   "pygments_lexer": "ipython3",
   "version": "3.8.15"
  }
 },
 "nbformat": 4,
 "nbformat_minor": 2
}
