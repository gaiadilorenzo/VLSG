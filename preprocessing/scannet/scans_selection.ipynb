{
 "cells": [
  {
   "cell_type": "code",
   "execution_count": 1,
   "metadata": {},
   "outputs": [],
   "source": [
    "import numpy as np\n",
    "import os\n",
    "import json\n",
    "\n",
    "Scannet_Root = \"/home/yang/990Pro/scannet_seqs/data\"\n",
    "split = 'val'\n",
    "\n",
    "scan_ids = os.listdir(os.path.join(Scannet_Root, split))"
   ]
  },
  {
   "cell_type": "code",
   "execution_count": 3,
   "metadata": {},
   "outputs": [
    {
     "name": "stdout",
     "output_type": "stream",
     "text": [
      "num of room_ 565, with 1201 scans\n",
      "num of room_scan_multi: 386\n"
     ]
    }
   ],
   "source": [
    "# get ref scans and reccans, scene_00xx_00, scene_00xx_01\n",
    "room_scans = {}\n",
    "num_scan = 0\n",
    "for scan_id in scan_ids:\n",
    "    room_id = scan_id.split('_')[0]\n",
    "    scan_idx = scan_id.split('_')[1]\n",
    "    if room_id not in room_scans:\n",
    "        room_scans[room_id] = []\n",
    "    room_scans[room_id].append(scan_id)\n",
    "    num_scan += 1\n",
    "print('num of room_ {}, with {} scans'.format(len(room_scans), num_scan))\n",
    "# get rooms with multiple scan pairs\n",
    "room_scan_multi = {}\n",
    "for room_id, scans in room_scans.items():\n",
    "    if len(scans) > 1:\n",
    "        room_scan_multi[room_id] = scans\n",
    "print('num of room_scan_multi:', len(room_scan_multi))"
   ]
  },
  {
   "cell_type": "code",
   "execution_count": 33,
   "metadata": {},
   "outputs": [],
   "source": [
    "# # get room scans with significant object difference\n",
    "# obj_diff_th = 5\n",
    "# scans_with_diff = {}\n",
    "\n",
    "# for room_id in room_scan_multi:\n",
    "#     ## get number of objects in each scan\n",
    "#     num_objects = {}\n",
    "#     for scan_id in room_scan_multi[room_id]:\n",
    "#         scan_path = os.path.join(Scannet_Root, split, scan_id, scan_id + \"_vh_clean.aggregation.json\")\n",
    "#         with open(scan_path) as f:\n",
    "#             annotation = json.load(f)\n",
    "#             num_objects[scan_id] = len(annotation['segGroups'])\n",
    "#     ## get scans with significant different number of objects\n",
    "#     scan_ids = list(num_objects.keys())\n",
    "#     num_objects = list(num_objects.values())\n",
    "#     diff = np.abs(np.array(num_objects)[:, None] - np.array(num_objects))\n",
    "#     diff = diff - np.diag(np.diag(diff))\n",
    "#     max_diff = np.max(diff)\n",
    "#     if max_diff > obj_diff_th:\n",
    "#         scan_ids = [scan_ids[np.argmax(diff) // len(scan_ids)], scan_ids[np.argmax(diff) % len(scan_ids)]]\n",
    "#         scans_with_diff[room_id] = scan_ids"
   ]
  },
  {
   "cell_type": "code",
   "execution_count": 7,
   "metadata": {},
   "outputs": [
    {
     "data": {
      "text/plain": [
       "565"
      ]
     },
     "execution_count": 7,
     "metadata": {},
     "output_type": "execute_result"
    }
   ],
   "source": [
    "len(room_scans)"
   ]
  },
  {
   "cell_type": "code",
   "execution_count": 8,
   "metadata": {},
   "outputs": [],
   "source": [
    "# save to file\n",
    "import pickle\n",
    "file_save = os.path.join(Scannet_Root, \"files\", 'scans_{}.pkl'.format(split))\n",
    "pickle.dump(room_scans, open(file_save, \"wb\"))"
   ]
  },
  {
   "cell_type": "code",
   "execution_count": 2,
   "metadata": {},
   "outputs": [],
   "source": [
    "import numpy as np\n",
    "import os\n",
    "import json, pickle\n",
    "\n",
    "Scannet_Root = \"/home/yang/990Pro/scannet_seqs/data\"\n",
    "split_ref = 'val'\n",
    "split = 'test'\n",
    "scan_ids = os.listdir(os.path.join(Scannet_Root, split_ref))"
   ]
  },
  {
   "cell_type": "code",
   "execution_count": 11,
   "metadata": {},
   "outputs": [
    {
     "name": "stdout",
     "output_type": "stream",
     "text": [
      "num of room_ 101, with 212 scans\n"
     ]
    }
   ],
   "source": [
    "ref_rooms_info = pickle.load(open(os.path.join(Scannet_Root, \"files\", 'scans_{}.pkl'.format(split_ref)), \"rb\"))\n",
    "scans_ref = []\n",
    "for room_id, scans in ref_rooms_info.items():\n",
    "    scans_ref += scans\n",
    "\n",
    "scans_test = []\n",
    "for scan_id in scan_ids:\n",
    "    if scan_id not in scans_ref:\n",
    "        scans_test.append(scan_id)\n",
    "# get ref scans and reccans, scene_00xx_00, scene_00xx_01\n",
    "room_scans_test = {}\n",
    "num_scan = 0\n",
    "for scan_id in scans_test:\n",
    "    room_id = scan_id.split('_')[0]\n",
    "    scan_idx = scan_id.split('_')[1]\n",
    "    if room_id not in room_scans_test:\n",
    "        room_scans_test[room_id] = []\n",
    "    room_scans_test[room_id].append(scan_id)\n",
    "    num_scan += 1\n",
    "print('num of room_ {}, with {} scans'.format(len(room_scans_test), num_scan))\n",
    "\n",
    "# save to file\n",
    "import pickle\n",
    "file_save = os.path.join(Scannet_Root, \"files\", 'scans_{}.pkl'.format(split))\n",
    "pickle.dump(room_scans_test, open(file_save, \"wb\"))"
   ]
  },
  {
   "cell_type": "code",
   "execution_count": 12,
   "metadata": {},
   "outputs": [],
   "source": [
    "rooms_info_reload = pickle.load(open(os.path.join(Scannet_Root, \"files\", 'scans_{}.pkl'.format(split)), \"rb\"))"
   ]
  },
  {
   "cell_type": "code",
   "execution_count": 14,
   "metadata": {},
   "outputs": [
    {
     "data": {
      "text/plain": [
       "101"
      ]
     },
     "execution_count": 14,
     "metadata": {},
     "output_type": "execute_result"
    }
   ],
   "source": [
    "len(rooms_info_reload)"
   ]
  }
 ],
 "metadata": {
  "kernelspec": {
   "display_name": "GCVit",
   "language": "python",
   "name": "python3"
  },
  "language_info": {
   "codemirror_mode": {
    "name": "ipython",
    "version": 3
   },
   "file_extension": ".py",
   "mimetype": "text/x-python",
   "name": "python",
   "nbconvert_exporter": "python",
   "pygments_lexer": "ipython3",
   "version": "3.8.15"
  }
 },
 "nbformat": 4,
 "nbformat_minor": 2
}
