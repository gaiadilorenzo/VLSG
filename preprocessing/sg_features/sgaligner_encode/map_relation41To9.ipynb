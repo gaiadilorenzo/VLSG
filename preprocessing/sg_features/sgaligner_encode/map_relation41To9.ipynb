{
 "cells": [
  {
   "cell_type": "code",
   "execution_count": 1,
   "metadata": {},
   "outputs": [],
   "source": [
    "import pickle\n",
    "\n",
    "rel41To9 = {\n",
    "    \"none\": \"none\",\n",
    "    \"supported by\": \"supported by\",\n",
    "    \"left\": \"none\",\n",
    "    \"right\": \"none\",\n",
    "    \"front\": \"none\",\n",
    "    \"behind\": \"none\",\n",
    "    \"close by\": \"none\",\n",
    "    \"inside\": \"none\",\n",
    "    \"bigger than\": \"none\",\n",
    "    \"smaller than\": \"none\",\n",
    "    \"higher than\": \"none\",\n",
    "    \"lower than\": \"none\",\n",
    "    \"same symmetry as\": \"none\",\n",
    "    \"same as\": \"none\",\n",
    "    \"attached to\": \"attached to\",\n",
    "    \"standing on\": \"standing on\",\n",
    "    \"lying on\": \"standing on\",\n",
    "    \"hanging on\": \"hanging on\",\n",
    "    \"connected to\": \"connected to\",\n",
    "    \"leaning against\": \"leaning against\",\n",
    "    \"part of\": \"part of\",   \n",
    "    \"belonging to\" : \"none\", \n",
    "    \"build in\" : \"build in\", \n",
    "    \"standing in\" : \"standing on\", \n",
    "    \"cover\": \"none\",\n",
    "    \"lying in\" : \"none\",\n",
    "    \"hanging in\": \"none\",\n",
    "    \"same color\": \"none\",\n",
    "    \"same material\": \"none\",\n",
    "    \"same texture\": \"none\",\n",
    "    \"same shape\": \"none\",\n",
    "    \"same state\": \"none\",\n",
    "    \"same object type\": \"none\",\n",
    "    \"messier than\": \"none\",\n",
    "    \"cleaner than\": \"none\",\n",
    "    \"fuller than\": \"none\",\n",
    "    \"more closed\": \"none\",\n",
    "    \"more open\": \"none\",\n",
    "    \"brighter than\": \"none\",\n",
    "    \"darker than\": \"none\",\n",
    "    \"more comfortable than\": \"none\",\n",
    "}"
   ]
  },
  {
   "cell_type": "code",
   "execution_count": 2,
   "metadata": {},
   "outputs": [],
   "source": [
    "dest_file = \"/home/yang/big_ssd/Scan3R/3RScan/files/rel41To9.pkl\"\n",
    "# save pickle\n",
    "with open(dest_file, 'wb') as f:\n",
    "    pickle.dump(rel41To9, f)"
   ]
  },
  {
   "cell_type": "code",
   "execution_count": 3,
   "metadata": {},
   "outputs": [],
   "source": [
    "# load pickle\n",
    "\n",
    "with open(dest_file, 'rb') as f:\n",
    "    test = pickle.load(f)"
   ]
  },
  {
   "cell_type": "code",
   "execution_count": 4,
   "metadata": {},
   "outputs": [
    {
     "data": {
      "text/plain": [
       "{'none': 'none',\n",
       " 'supported by': 'supported by',\n",
       " 'left': 'none',\n",
       " 'right': 'none',\n",
       " 'front': 'none',\n",
       " 'behind': 'none',\n",
       " 'close by': 'none',\n",
       " 'inside': 'none',\n",
       " 'bigger than': 'none',\n",
       " 'smaller than': 'none',\n",
       " 'higher than': 'none',\n",
       " 'lower than': 'none',\n",
       " 'same symmetry as': 'none',\n",
       " 'same as': 'none',\n",
       " 'attached to': 'attached to',\n",
       " 'standing on': 'standing on',\n",
       " 'lying on': 'standing on',\n",
       " 'hanging on': 'hanging on',\n",
       " 'connected to': 'connected to',\n",
       " 'leaning against': 'leaning against',\n",
       " 'part of': 'part of',\n",
       " 'belonging to': 'none',\n",
       " 'build in': 'build in',\n",
       " 'standing in': 'standing on',\n",
       " 'cover': 'none',\n",
       " 'lying in': 'none',\n",
       " 'hanging in': 'none',\n",
       " 'same color': 'none',\n",
       " 'same material': 'none',\n",
       " 'same texture': 'none',\n",
       " 'same shape': 'none',\n",
       " 'same state': 'none',\n",
       " 'same object type': 'none',\n",
       " 'messier than': 'none',\n",
       " 'cleaner than': 'none',\n",
       " 'fuller than': 'none',\n",
       " 'more closed': 'none',\n",
       " 'more open': 'none',\n",
       " 'brighter than': 'none',\n",
       " 'darker than': 'none',\n",
       " 'more comfortable than': 'none'}"
      ]
     },
     "execution_count": 4,
     "metadata": {},
     "output_type": "execute_result"
    }
   ],
   "source": [
    "test"
   ]
  }
 ],
 "metadata": {
  "kernelspec": {
   "display_name": "GCVit",
   "language": "python",
   "name": "python3"
  },
  "language_info": {
   "codemirror_mode": {
    "name": "ipython",
    "version": 3
   },
   "file_extension": ".py",
   "mimetype": "text/x-python",
   "name": "python",
   "nbconvert_exporter": "python",
   "pygments_lexer": "ipython3",
   "version": "3.8.15"
  }
 },
 "nbformat": 4,
 "nbformat_minor": 2
}
